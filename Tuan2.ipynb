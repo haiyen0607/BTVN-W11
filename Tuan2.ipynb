{
  "nbformat": 4,
  "nbformat_minor": 0,
  "metadata": {
    "colab": {
      "provenance": [],
      "authorship_tag": "ABX9TyOJXIwToH4HuTF18+kf0F+d",
      "include_colab_link": true
    },
    "kernelspec": {
      "name": "python3",
      "display_name": "Python 3"
    },
    "language_info": {
      "name": "python"
    }
  },
  "cells": [
    {
      "cell_type": "markdown",
      "metadata": {
        "id": "view-in-github",
        "colab_type": "text"
      },
      "source": [
        "<a href=\"https://colab.research.google.com/github/haiyen0607/BTVN-W11/blob/main/Tuan2.ipynb\" target=\"_parent\"><img src=\"https://colab.research.google.com/assets/colab-badge.svg\" alt=\"Open In Colab\"/></a>"
      ]
    },
    {
      "cell_type": "markdown",
      "source": [
        "Viết hàm nhận 3 tham số a, b, c của phương trình bậc 2. Hàm trả về kết quả nghiệm của phương trình ax^2 + bx + c = 0\n"
      ],
      "metadata": {
        "id": "gVgDJW4QZgT5"
      }
    },
    {
      "cell_type": "code",
      "source": [
        "import math\n",
        " \n",
        "def giaiPTBac2(a, b, c):\n",
        "    # kiểm tra các hệ số\n",
        "    if (a == 0):\n",
        "        if (b == 0):\n",
        "            print (\"Phương trình vô nghiệm!\")\n",
        "        else:\n",
        "            print (\"Phương trình có một nghiệm: x = \", + (-c / b))\n",
        "        return\n",
        " \n",
        "    # tính delta\n",
        "    delta = b * b - 4 * a * c\n",
        "    # tính nghiệm\n",
        "    if (delta > 0):\n",
        "        x1 = (float)((-b + math.sqrt(delta)) / (2 * a))\n",
        "        x2 = (float)((-b - math.sqrt(delta)) / (2 * a))\n",
        "        print (\"Phương trình có 2 nghiệm là: x1 = \", x1, \" và x2 = \", x2)\n",
        "    elif (delta == 0):\n",
        "        x1 = (-b / (2 * a))\n",
        "        print(\"Phương trình có nghiệm kép: x1 = x2 = \", x1)\n",
        "    else:\n",
        "        print(\"Phương trình vô nghiệm!\")\n",
        " \n",
        "# Nhập các hệ số\n",
        "a = float(input(\"Nhập hệ số bậc 2, a = \"))\n",
        "b = float(input(\"Nhập hệ số bậc 1, b = \"))\n",
        "c = float(input(\"Nhập hằng số tự do, c = \"))\n",
        "\n",
        "giaiPTBac2(a, b, c)"
      ],
      "metadata": {
        "colab": {
          "base_uri": "https://localhost:8080/"
        },
        "id": "UFyvB_izZoBW",
        "outputId": "8ad088c3-de77-4329-c906-9e143820cfb9"
      },
      "execution_count": 1,
      "outputs": [
        {
          "output_type": "stream",
          "name": "stdout",
          "text": [
            "Nhập hệ số bậc 2, a = 1\n",
            "Nhập hệ số bậc 1, b = 3\n",
            "Nhập hằng số tự do, c = 2\n",
            "Phương trình có 2 nghiệm là: x1 =  -1.0  và x2 =  -2.0\n"
          ]
        }
      ]
    }
  ]
}